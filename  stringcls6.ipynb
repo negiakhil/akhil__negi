{
 "cells": [
  {
   "cell_type": "code",
   "execution_count": 1,
   "id": "cb97ff3c-196d-4942-9bee-c758b3fef840",
   "metadata": {},
   "outputs": [
    {
     "data": {
      "text/plain": [
       "'THO'"
      ]
     },
     "execution_count": 1,
     "metadata": {},
     "output_type": "execute_result"
    }
   ],
   "source": [
    "i = \"PYTHON\"\n",
    "i[2:5]"
   ]
  },
  {
   "cell_type": "code",
   "execution_count": 6,
   "id": "d5962a2e-2050-4fc2-8981-7c902196c0c5",
   "metadata": {},
   "outputs": [
    {
     "data": {
      "text/plain": [
       "'th'"
      ]
     },
     "execution_count": 6,
     "metadata": {},
     "output_type": "execute_result"
    }
   ],
   "source": [
    "i= \"python\"\n",
    "i[2:-2]"
   ]
  },
  {
   "cell_type": "code",
   "execution_count": 8,
   "id": "e37e770d-fe05-4663-813c-7eee84a0bbb9",
   "metadata": {},
   "outputs": [
    {
     "data": {
      "text/plain": [
       "'py'"
      ]
     },
     "execution_count": 8,
     "metadata": {},
     "output_type": "execute_result"
    }
   ],
   "source": [
    "x=\"python\"\n",
    "x[0:2:1]"
   ]
  },
  {
   "cell_type": "code",
   "execution_count": 18,
   "id": "4f73df1a-5a88-4ba8-a851-8402198966b6",
   "metadata": {},
   "outputs": [
    {
     "data": {
      "text/plain": [
       "'nohtyp'"
      ]
     },
     "execution_count": 18,
     "metadata": {},
     "output_type": "execute_result"
    }
   ],
   "source": [
    "a=\"python\"\n",
    "a[-1:-7:-1]"
   ]
  },
  {
   "cell_type": "code",
   "execution_count": 15,
   "id": "7149f3ac-0c67-43ab-a9c6-b29676baeb65",
   "metadata": {},
   "outputs": [
    {
     "data": {
      "text/plain": [
       "'pto'"
      ]
     },
     "execution_count": 15,
     "metadata": {},
     "output_type": "execute_result"
    }
   ],
   "source": [
    "a=\"python\"\n",
    "a[0:5:2]"
   ]
  },
  {
   "cell_type": "code",
   "execution_count": 24,
   "id": "e7e6c733-f6d0-429e-afa3-7d389a6785ad",
   "metadata": {},
   "outputs": [
    {
     "data": {
      "text/plain": [
       "'UHT'"
      ]
     },
     "execution_count": 24,
     "metadata": {},
     "output_type": "execute_result"
    }
   ],
   "source": [
    "a=\"GOD OF THUNDER\"\n",
    "a[0:19:1]\n",
    "a[-5:-8:-1]\n",
    "a[9:6:-1]"
   ]
  },
  {
   "cell_type": "code",
   "execution_count": 25,
   "id": "bd8728f3-28d8-4220-9cec-fd107a7d7437",
   "metadata": {},
   "outputs": [
    {
     "data": {
      "text/plain": [
       "2"
      ]
     },
     "execution_count": 25,
     "metadata": {},
     "output_type": "execute_result"
    }
   ],
   "source": [
    "a=\"Aman\"\n",
    "a.index('a')"
   ]
  },
  {
   "cell_type": "code",
   "execution_count": 26,
   "id": "a07b7b22-0bd3-4efd-b21b-22467204b3bb",
   "metadata": {},
   "outputs": [
    {
     "data": {
      "text/plain": [
       "3"
      ]
     },
     "execution_count": 26,
     "metadata": {},
     "output_type": "execute_result"
    }
   ],
   "source": [
    "a=\"Aman\"\n",
    "a.index('n')"
   ]
  },
  {
   "cell_type": "code",
   "execution_count": 34,
   "id": "98e0b1ac-7f21-43d3-938f-e6f636e070e1",
   "metadata": {},
   "outputs": [
    {
     "data": {
      "text/plain": [
       "2"
      ]
     },
     "execution_count": 34,
     "metadata": {},
     "output_type": "execute_result"
    }
   ],
   "source": [
    "a= \"akash\"\n",
    "a.count('a')"
   ]
  },
  {
   "cell_type": "code",
   "execution_count": 35,
   "id": "35b3f2ea-2621-498d-869c-faf52a4613c1",
   "metadata": {},
   "outputs": [
    {
     "data": {
      "text/plain": [
       "'pkpsh'"
      ]
     },
     "execution_count": 35,
     "metadata": {},
     "output_type": "execute_result"
    }
   ],
   "source": [
    "a=\"akash\"\n",
    "a.replace('a','p')"
   ]
  },
  {
   "cell_type": "code",
   "execution_count": 36,
   "id": "464068f7-cf58-4b55-bcbc-5f869d1fb782",
   "metadata": {},
   "outputs": [
    {
     "data": {
      "text/plain": [
       "5"
      ]
     },
     "execution_count": 36,
     "metadata": {},
     "output_type": "execute_result"
    }
   ],
   "source": [
    "a=\"akash\"\n",
    "len(a)"
   ]
  },
  {
   "cell_type": "code",
   "execution_count": 42,
   "id": "e47f5831-2696-40d4-8015-963e41d55422",
   "metadata": {},
   "outputs": [
    {
     "name": "stdout",
     "output_type": "stream",
     "text": [
      "R___A___H___U___L___\n"
     ]
    }
   ],
   "source": [
    "a=\"RAHUL\"\n",
    "for i in a:\n",
    "    print(i, end=\"___\")\n",
    "print()"
   ]
  },
  {
   "cell_type": "code",
   "execution_count": 47,
   "id": "a7a4e1d5-81ba-4427-b6da-38099c1520f2",
   "metadata": {},
   "outputs": [
    {
     "name": "stdin",
     "output_type": "stream",
     "text": [
      "Your Name = RAM\n"
     ]
    },
    {
     "name": "stdout",
     "output_type": "stream",
     "text": [
      "R_A_M_\n"
     ]
    }
   ],
   "source": [
    "a=input(\"Your Name =\")\n",
    "for i in a:\n",
    "    print(i,  end =\"_\")\n",
    "print()\n"
   ]
  },
  {
   "cell_type": "code",
   "execution_count": 84,
   "id": "2fcd709b-5ade-4f7f-b420-fd56a7996ef6",
   "metadata": {},
   "outputs": [
    {
     "data": {
      "text/plain": [
       "3"
      ]
     },
     "execution_count": 84,
     "metadata": {},
     "output_type": "execute_result"
    }
   ],
   "source": [
    "a=\"rakeshee\"\n",
    "x = 0\n",
    "\n",
    "for i in a:\n",
    "    if i ==\"e\":\n",
    "        x = x+1\n",
    "x"
   ]
  },
  {
   "cell_type": "code",
   "execution_count": 94,
   "id": "c9d02529-c713-466d-81f1-554e671de5d3",
   "metadata": {},
   "outputs": [
    {
     "name": "stdout",
     "output_type": "stream",
     "text": [
      "rakashaa\n"
     ]
    }
   ],
   "source": [
    "a= \"rakeshee\"\n",
    "x= \"\"\n",
    "for i in a:\n",
    "    if i ==\"e\":\n",
    "       x=x+\"a\"\n",
    "    else:\n",
    "        x=x+i\n",
    "\n",
    "print(x)\n",
    "    \n",
    "        "
   ]
  },
  {
   "cell_type": "code",
   "execution_count": 95,
   "id": "527d2cf0-b130-421f-95ac-1be6d9871dcc",
   "metadata": {},
   "outputs": [
    {
     "data": {
      "text/plain": [
       "'pypush'"
      ]
     },
     "execution_count": 95,
     "metadata": {},
     "output_type": "execute_result"
    }
   ],
   "source": [
    "a= \"ayaush\"\n",
    "j=\"\"\n",
    "for i in a:\n",
    "    if i==\"a\":\n",
    "        j=j+\"p\"\n",
    "    else:\n",
    "        j=j+i\n",
    "\n",
    "j"
   ]
  },
  {
   "cell_type": "code",
   "execution_count": null,
   "id": "0ec444bc-37c5-4d3b-a320-fef147566b99",
   "metadata": {},
   "outputs": [],
   "source": [
    "s = \"sadsdcdsadsds\""
   ]
  },
  {
   "cell_type": "code",
   "execution_count": 145,
   "id": "3a8c733b-3224-4e77-a2fd-ab3fcbc7cf8e",
   "metadata": {},
   "outputs": [
    {
     "data": {
      "text/plain": [
       "'badbdcdbadbdb'"
      ]
     },
     "execution_count": 145,
     "metadata": {},
     "output_type": "execute_result"
    }
   ],
   "source": [
    "s = \"sadsdcdsadsds\"\n",
    "a=\"\"\n",
    "for i in s:\n",
    "    if i==\"s\":\n",
    "        a=a+\"b\"\n",
    "    else:\n",
    "        a=a+i\n",
    "a"
   ]
  },
  {
   "cell_type": "code",
   "execution_count": 103,
   "id": "043f7f15-f6b3-43a4-b485-64e4f7dcdf4d",
   "metadata": {},
   "outputs": [
    {
     "data": {
      "text/plain": [
       "10"
      ]
     },
     "execution_count": 103,
     "metadata": {},
     "output_type": "execute_result"
    }
   ],
   "source": [
    "s = \"sadsdcdsadsds\"\n",
    "x=0\n",
    "for i in s:\n",
    "    if i==\"d\":\n",
    "        x=x+1\n",
    "    \n",
    "x"
   ]
  },
  {
   "cell_type": "code",
   "execution_count": 30,
   "id": "cb2a36a2-0423-42af-a696-33878235bb6f",
   "metadata": {},
   "outputs": [
    {
     "name": "stdout",
     "output_type": "stream",
     "text": [
      "s\n",
      "a\n",
      "d\n",
      "s\n",
      "d\n",
      "c\n",
      "d\n",
      "s\n",
      "a\n",
      "d\n",
      "s\n",
      "d\n",
      "s\n"
     ]
    },
    {
     "data": {
      "text/plain": [
       "'sssss'"
      ]
     },
     "execution_count": 30,
     "metadata": {},
     "output_type": "execute_result"
    }
   ],
   "source": [
    "a=\"sadsdcdsadsds\"\n",
    "\n",
    "x = \"\"\n",
    "for i in a:\n",
    "    if i==\"s\":\n",
    "        x = x+i\n",
    "x"
   ]
  },
  {
   "cell_type": "code",
   "execution_count": 130,
   "id": "5a10b4f8-1d73-470d-b1e6-d1217a9be7e9",
   "metadata": {},
   "outputs": [
    {
     "data": {
      "text/plain": [
       "'dddd'"
      ]
     },
     "execution_count": 130,
     "metadata": {},
     "output_type": "execute_result"
    }
   ],
   "source": [
    "a=\"sadsdcdcsads\"\n",
    "x=\"\"\n",
    "for i in a:\n",
    "    if i==\"d\":\n",
    "        x=x+i\n",
    "x\n"
   ]
  },
  {
   "cell_type": "code",
   "execution_count": 131,
   "id": "fae9abca-32cc-4354-95ac-2f78427b48cd",
   "metadata": {},
   "outputs": [
    {
     "data": {
      "text/plain": [
       "'aa'"
      ]
     },
     "execution_count": 131,
     "metadata": {},
     "output_type": "execute_result"
    }
   ],
   "source": [
    "a=\"sadsdcdcsads\"\n",
    "x=\"\"\n",
    "for i in a:\n",
    "    if i==\"a\":\n",
    "        x=x+i\n",
    "x\n"
   ]
  },
  {
   "cell_type": "code",
   "execution_count": 146,
   "id": "f0e00d36-9075-4b28-ab21-01b5efff2ffe",
   "metadata": {},
   "outputs": [
    {
     "data": {
      "text/plain": [
       "'sadsdodosads'"
      ]
     },
     "execution_count": 146,
     "metadata": {},
     "output_type": "execute_result"
    }
   ],
   "source": [
    "a=\"sadsdcdcsads\"\n",
    "x=\"\"\n",
    "for i in a:\n",
    "    if i==\"c\":\n",
    "        x=x+\"o\"\n",
    "    else:\n",
    "        x=x+i\n",
    "x\n"
   ]
  },
  {
   "cell_type": "code",
   "execution_count": 143,
   "id": "4066b4e0-6542-42e4-9f44-7f1cae367580",
   "metadata": {},
   "outputs": [
    {
     "data": {
      "text/plain": [
       "'cc'"
      ]
     },
     "execution_count": 143,
     "metadata": {},
     "output_type": "execute_result"
    }
   ],
   "source": [
    "a=\"sadsdcdcsads\"\n",
    "x=\"\"\n",
    "for i in a:\n",
    "    if i==\"c\":\n",
    "        x=x+i\n",
    "x\n"
   ]
  },
  {
   "cell_type": "code",
   "execution_count": null,
   "id": "f11c0a2d-3136-4ca8-aa9c-8e7c54275552",
   "metadata": {},
   "outputs": [],
   "source": []
  },
  {
   "cell_type": "code",
   "execution_count": 171,
   "id": "5027254b-8ba3-4094-9800-68b411901551",
   "metadata": {},
   "outputs": [
    {
     "name": "stdout",
     "output_type": "stream",
     "text": [
      "s 4\n",
      "a 2\n",
      "d 4\n",
      "s 4\n",
      "d 4\n",
      "f 2\n",
      "h 2\n",
      "g 2\n",
      "j 2\n",
      "h 2\n",
      "f 2\n",
      "j 2\n",
      "g 2\n",
      "i 1\n",
      "t 1\n",
      "y 1\n",
      "c 2\n",
      "d 4\n",
      "c 2\n",
      "s 4\n",
      "a 2\n",
      "d 4\n",
      "s 4\n"
     ]
    }
   ],
   "source": [
    "a=\"sadsdfhgjhfjgitycdcsads\"\n",
    "x=\"\"\n",
    "\n",
    "for i in a:\n",
    "    print(i , a.count(i))\n"
   ]
  },
  {
   "cell_type": "code",
   "execution_count": 149,
   "id": "8bf580aa-f2a0-46e9-b652-84c13b226071",
   "metadata": {},
   "outputs": [
    {
     "name": "stdout",
     "output_type": "stream",
     "text": [
      "2\n",
      "4\n"
     ]
    }
   ],
   "source": [
    "print(a.count(\"a\"))\n",
    "print(a.count(\"d\"))"
   ]
  },
  {
   "cell_type": "code",
   "execution_count": null,
   "id": "875621e5-1120-424b-bf16-255713e86403",
   "metadata": {},
   "outputs": [],
   "source": []
  },
  {
   "cell_type": "code",
   "execution_count": 176,
   "id": "572dd240-125c-47db-a22c-382d63e2227c",
   "metadata": {},
   "outputs": [
    {
     "name": "stdout",
     "output_type": "stream",
     "text": [
      "s a d s d f h g j h f j g i t y c d c s a d s "
     ]
    }
   ],
   "source": [
    "a=\"sadsdfhgjhfjgitycdcsads\"\n",
    "x=\"\"\n",
    "for i in a:\n",
    "    if i==\"s\":\n",
    "        x=x+\"s\"\n",
    "    else:\n",
    "        x=x+i\n",
    "    print(i, end=\" \")"
   ]
  },
  {
   "cell_type": "code",
   "execution_count": 177,
   "id": "54cb7401-0e98-4a91-96b0-5398721cf4a0",
   "metadata": {},
   "outputs": [
    {
     "data": {
      "text/plain": [
       "'sadsdfhgjhfjgitycdcsads'"
      ]
     },
     "execution_count": 177,
     "metadata": {},
     "output_type": "execute_result"
    }
   ],
   "source": [
    "a=\"sadsdfhgjhfjgitycdcsads\""
   ]
  },
  {
   "cell_type": "code",
   "execution_count": 29,
   "id": "df84e4db-d46d-474e-b2aa-687a2c67a8f5",
   "metadata": {},
   "outputs": [
    {
     "name": "stdout",
     "output_type": "stream",
     "text": [
      "s\n",
      "a\n",
      "d\n",
      "s\n",
      "d\n",
      "f\n",
      "h\n",
      "g\n",
      "j\n",
      "h\n",
      "f\n",
      "j\n",
      "g\n",
      "i\n",
      "t\n",
      "y\n",
      "c\n",
      "d\n",
      "c\n",
      "s\n",
      "a\n",
      "d\n",
      "s\n"
     ]
    }
   ],
   "source": [
    "a=\"sadsdfhgjhfjgitycdcsads\"\n",
    "for i in a:\n",
    "    print(i)"
   ]
  },
  {
   "cell_type": "code",
   "execution_count": 14,
   "id": "f89c4e90-5395-4fc0-8ac5-4ddf9dbd9d45",
   "metadata": {},
   "outputs": [
    {
     "data": {
      "text/plain": [
       "4"
      ]
     },
     "execution_count": 14,
     "metadata": {},
     "output_type": "execute_result"
    }
   ],
   "source": [
    "a=\"aman\"\n",
    "len(a)"
   ]
  },
  {
   "cell_type": "code",
   "execution_count": null,
   "id": "5e4fb94f-21ac-404f-a939-a87b284cf361",
   "metadata": {},
   "outputs": [],
   "source": []
  },
  {
   "cell_type": "code",
   "execution_count": null,
   "id": "f8d09b25-3af9-4ea0-9a34-b59444bcbecd",
   "metadata": {},
   "outputs": [],
   "source": []
  },
  {
   "cell_type": "code",
   "execution_count": null,
   "id": "29ee75e2-6e53-4290-b03a-37b6d5e68c0e",
   "metadata": {},
   "outputs": [],
   "source": []
  },
  {
   "cell_type": "code",
   "execution_count": null,
   "id": "c56dd2d8-c843-4e5f-8c21-4298075eabe6",
   "metadata": {},
   "outputs": [],
   "source": []
  },
  {
   "cell_type": "code",
   "execution_count": null,
   "id": "c9a4fc6e-3b5c-4ae4-8a18-e9e495705ce5",
   "metadata": {},
   "outputs": [],
   "source": []
  }
 ],
 "metadata": {
  "kernelspec": {
   "display_name": "Python 3 (ipykernel)",
   "language": "python",
   "name": "python3"
  },
  "language_info": {
   "codemirror_mode": {
    "name": "ipython",
    "version": 3
   },
   "file_extension": ".py",
   "mimetype": "text/x-python",
   "name": "python",
   "nbconvert_exporter": "python",
   "pygments_lexer": "ipython3",
   "version": "3.11.7"
  }
 },
 "nbformat": 4,
 "nbformat_minor": 5
}
